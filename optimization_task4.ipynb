{
  "nbformat": 4,
  "nbformat_minor": 0,
  "metadata": {
    "colab": {
      "provenance": []
    },
    "kernelspec": {
      "name": "python3",
      "display_name": "Python 3"
    },
    "language_info": {
      "name": "python"
    }
  },
  "cells": [
    {
      "cell_type": "code",
      "source": [
        "# PuLP is already installed, so let's jump in\n",
        "import pandas as pd\n",
        "from pulp import LpProblem, LpMinimize, LpVariable, lpSum, LpStatus\n",
        "\n",
        "# Load dataset\n",
        "url = \"https://raw.githubusercontent.com/SAI-ADITY-A/Supply-chain-analysis/main/supply_chain_data.csv\"\n",
        "df = pd.read_csv(url)\n",
        "\n",
        "# Preview data\n",
        "print(\"Dataset Preview:\")\n",
        "print(df[['Product type', 'SKU', 'Shipping costs', 'Supplier name', 'Location']].head())\n",
        "\n",
        "# Let's say we want to minimize shipping costs for selected SKUs\n",
        "selected_skus = df['SKU'].unique()[:5]  # Just a few for demo\n",
        "routes = [(sku, supplier) for sku in selected_skus for supplier in df['Supplier name'].unique()]\n",
        "x = LpVariable.dicts(\"Route\", routes, lowBound=0, cat='Integer')\n",
        "\n",
        "# Create LP model\n",
        "model = LpProblem(\"Shipping_Cost_Minimization\", LpMinimize)\n",
        "\n",
        "# Objective: Minimize total shipping cost\n",
        "model += lpSum(\n",
        "    df[(df['SKU'] == sku) & (df['Supplier name'] == supplier)]['Shipping costs'].values[0] * x[(sku, supplier)]\n",
        "    for (sku, supplier) in routes if not df[(df['SKU'] == sku) & (df['Supplier name'] == supplier)].empty\n",
        ")\n",
        "\n",
        "# Add constraints (example: max 100 units per SKU)\n",
        "for sku in selected_skus:\n",
        "    model += lpSum(x[(sku, supplier)] for supplier in df['Supplier name'].unique()) <= 100, f\"MaxUnits_{sku}\"\n",
        "\n",
        "# Solve\n",
        "model.solve()\n",
        "\n",
        "# Results\n",
        "print(f\"\\nStatus: {LpStatus[model.status]}\")\n",
        "for (sku, supplier) in routes:\n",
        "    if x[(sku, supplier)].value() > 0:\n",
        "        print(f\"Ship SKU {sku} from {supplier}: {x[(sku, supplier)].value()} units\")\n",
        "print(f\"\\nTotal Shipping Cost: ₹{model.objective.value()}\")"
      ],
      "metadata": {
        "colab": {
          "base_uri": "https://localhost:8080/"
        },
        "id": "TF-fxpivllIU",
        "outputId": "1f707a5a-1fb1-40e3-b3b4-88507d4b2bc4"
      },
      "execution_count": 10,
      "outputs": [
        {
          "output_type": "stream",
          "name": "stdout",
          "text": [
            "Dataset Preview:\n",
            "  Product type   SKU  Shipping costs Supplier name Location\n",
            "0     haircare  SKU0        2.956572    Supplier 3   Mumbai\n",
            "1     skincare  SKU1        9.716575    Supplier 3   Mumbai\n",
            "2     haircare  SKU2        8.054479    Supplier 1   Mumbai\n",
            "3     skincare  SKU3        1.729569    Supplier 5  Kolkata\n",
            "4     skincare  SKU4        3.890548    Supplier 1    Delhi\n",
            "\n",
            "Status: Optimal\n",
            "\n",
            "Total Shipping Cost: ₹0.0\n"
          ]
        }
      ]
    },
    {
      "cell_type": "code",
      "source": [],
      "metadata": {
        "id": "eQFSiNS8mqNu"
      },
      "execution_count": null,
      "outputs": []
    }
  ]
}